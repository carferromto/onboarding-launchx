{
 "cells": [
  {
   "cell_type": "code",
   "execution_count": 9,
   "metadata": {},
   "outputs": [
    {
     "name": "stdout",
     "output_type": "stream",
     "text": [
      "Peligro , Asteroide acercandose a velocidad critica\n"
     ]
    }
   ],
   "source": [
    "# Añadir el código necesario para crear una variable que guarde la velocidad del asteroide.\n",
    "# Escribe una expresión de prueba para calcular si necesita una advertencia.\n",
    "# Agregue las instrucciones que se ejecutarán si la expresión de prueba es true o false.\n",
    "\n",
    "velocidad_asteroide=49\n",
    "\n",
    "if velocidad_asteroide>=25:\n",
    "    print('Peligro , Asteroide acercandose a velocidad critica')\n",
    "\n",
    "\n",
    "else:\n",
    "    print('no hay nada en el cielo')       "
   ]
  },
  {
   "cell_type": "code",
   "execution_count": 7,
   "metadata": {},
   "outputs": [
    {
     "name": "stdout",
     "output_type": "stream",
     "text": [
      "Peligro , Asteroide acercandose a velocidad critica\n"
     ]
    }
   ],
   "source": [
    "# Agrega el código para crear una variable para un asteroide que viaja a 19 km/s\n",
    "# Escribe varias expresiones de prueba para determinar si puedes ver el rayo de luz desde la tierra\n",
    "# Agrega las instrucciones que se ejecutarán si las expresiones de prueba son True o False\n",
    "\n",
    "velocidad_asteroide=49\n",
    "\n",
    "if velocidad_asteroide>=25:\n",
    "    print('Peligro , Asteroide acercandose a velocidad critica')\n",
    "elif velocidad_asteroide<25 and velocidad_asteroide!=0:\n",
    "        print('Se vera la luz de un asteroide en el cielo')\n",
    "\n",
    "else:\n",
    "    print('no hay nada en el cielo')  \n"
   ]
  },
  {
   "cell_type": "code",
   "execution_count": 13,
   "metadata": {},
   "outputs": [
    {
     "name": "stdout",
     "output_type": "stream",
     "text": [
      "Asteroide detectado viajando a velocidad menor del limite alarmante\n",
      "El asteroide se vera desde la tierra por su luz azul\n",
      "Alto daño en impacto de asteroide\n"
     ]
    }
   ],
   "source": [
    "# Agrega el código para crear nuevas variables para la velocidad y el tamaño del asteroide\n",
    "# Para probar el código, prueba con varias velocidades y tamaños\n",
    "# Escribe varias expresiones de prueba o combinaciones de expresiones de prueba para determinar\n",
    "#  qué mensaje se debe enviar a Tierra.\n",
    "\n",
    "tamaño_asteroide=25\n",
    "velocidad_asteroide=500\n",
    "\n",
    "##tamaño_asteroide=input(print(\"ingrese tamaño del asteroide\"))\n",
    "##velocidad_asteroide=input(print('ingrese la velocidad del asteroide'))\n",
    "velocidad_limite=25\n",
    "\n",
    "if tamaño_asteroide>=25 and velocidad_asteroide>20:\n",
    "    print('Asteroide detectado viajando a velocidad menor del limite alarmante')\n",
    "    print('El asteroide se vera desde la tierra por su luz azul')\n",
    "    print('Alto daño en impacto de asteroide')\n",
    "\n",
    "elif tamaño_asteroide<25 and velocidad_asteroide<velocidad_limite:\n",
    "    print('Asteroide detectado , es inofensivo , Sigue con tu dia')\n",
    "\n",
    "else:\n",
    "    print('no pasa nada oigaa')"
   ]
  }
 ],
 "metadata": {
  "interpreter": {
   "hash": "092e22918fe5a7649718a62db2c44cb39db37187747815879a09b1102b893454"
  },
  "kernelspec": {
   "display_name": "Python 3.9.7 64-bit",
   "language": "python",
   "name": "python3"
  },
  "language_info": {
   "codemirror_mode": {
    "name": "ipython",
    "version": 3
   },
   "file_extension": ".py",
   "mimetype": "text/x-python",
   "name": "python",
   "nbconvert_exporter": "python",
   "pygments_lexer": "ipython3",
   "version": "3.9.7"
  },
  "orig_nbformat": 4
 },
 "nbformat": 4,
 "nbformat_minor": 2
}
