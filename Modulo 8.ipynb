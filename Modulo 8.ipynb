{
 "cells": [
  {
   "cell_type": "code",
   "execution_count": 39,
   "metadata": {},
   "outputs": [
    {
     "name": "stdout",
     "output_type": "stream",
     "text": [
      "El planeta : Marte  tiene  2 lunas\n"
     ]
    }
   ],
   "source": [
    "##crear un diccionario con marte y sus lunas\n",
    "\n",
    "planeta={'nombre':'Marte','Lunas':2}\n",
    "print(\"El planeta : \" + planeta.get('nombre') , \" tiene \" , planeta.get('Lunas'),\"lunas\")\n"
   ]
  },
  {
   "cell_type": "code",
   "execution_count": 57,
   "metadata": {},
   "outputs": [
    {
     "name": "stdout",
     "output_type": "stream",
     "text": [
      "El planeta : Marte  tiene  2 lunas  y la circunferencia es:  {'polar': 6752, 'equatorial': 6792}\n"
     ]
    }
   ],
   "source": [
    "##Agrega la clave circunferencia con los datos proporcionados previamente.\n",
    "planeta={'nombre':'Marte','Lunas':2}\n",
    "planeta['circunferencia']={'polar': 6752 , 'equatorial': 6792}\n",
    "print(\"El planeta : \" + planeta.get('nombre') , \" tiene \" , planeta.get('Lunas'),\"lunas\", \" y la circunferencia es: \" , planeta.get('circunferencia'))\n"
   ]
  },
  {
   "cell_type": "code",
   "execution_count": 38,
   "metadata": {},
   "outputs": [
    {
     "name": "stdout",
     "output_type": "stream",
     "text": [
      "La suma total de lunas de cada planeta del sistema solar es: 214\n"
     ]
    }
   ],
   "source": [
    "##determinar el número de lunas.\n",
    "planet_moons = {'mercury': 0,'venus': 0,'earth': 1,'mars': 2,'jupiter': 79,'saturn': 82,'uranus': 27,'neptune': 14,'pluto': 5,'haumea': 2,'makemake': 1,'eris': 1}\n",
    "\n",
    "total_lunas=0\n",
    "\n",
    "for num_luna in planet_moons.values():\n",
    "     ##valores = planet_moons.value()\n",
    "     total_lunas+=num_luna\n",
    "    \n",
    "##print(valores)\n",
    "print(\"La suma total de lunas de cada planeta del sistema solar es:\", total_lunas)\n",
    "\n"
   ]
  },
  {
   "cell_type": "code",
   "execution_count": 82,
   "metadata": {},
   "outputs": [
    {
     "name": "stdout",
     "output_type": "stream",
     "text": [
      "El valor de la suma de lunas es:\n",
      " 214\n",
      "El numero de lunas que hay en el sistema solar es:\n",
      " 214\n",
      "El munero de planetas es\n",
      " 12\n",
      "el promedio de lunas por cada planeta es\n",
      " 17.833333333333332\n"
     ]
    }
   ],
   "source": [
    "planet_moons = {'mercury': 0,'venus': 0,'earth': 1,'mars': 2, 'jupiter': 79,'saturn': 82,'uranus': 27,'neptune': 14,'pluto': 5,'haumea': 2,'makemake': 1,'eris': 1}\n",
    "\n",
    "num_de_planetas=len(planet_moons)\n",
    "total = 0\n",
    "\n",
    "for i in planet_moons.values():\n",
    "    total += i\n",
    "    promedio=total/num_de_planetas\n",
    "\n",
    "\n",
    "##de ortra manera se pueden sumar los valores de el diccionario\n",
    "moons=planet_moons.keys() \n",
    "num_moons=planet_moons.values()   \n",
    "nm=0\n",
    "for n in num_moons:\n",
    "    nm=nm+n\n",
    "print(\"El valor de la suma de lunas es:\\n\",nm)    \n",
    "\n",
    "\n",
    "##print(\"El numero de lunas de cada planeta en la lista son:\\n\",num_moons)\n",
    "##print(\"Los planetas en la lista son:\\n\",moons)\n",
    "print(\"El numero de lunas que hay en el sistema solar es:\\n\",total)\n",
    "print(\"El munero de planetas es\\n\",num_de_planetas)\n",
    "print(\"el promedio de lunas por cada planeta es\\n\",promedio)"
   ]
  }
 ],
 "metadata": {
  "interpreter": {
   "hash": "092e22918fe5a7649718a62db2c44cb39db37187747815879a09b1102b893454"
  },
  "kernelspec": {
   "display_name": "Python 3.9.7 64-bit",
   "language": "python",
   "name": "python3"
  },
  "language_info": {
   "codemirror_mode": {
    "name": "ipython",
    "version": 3
   },
   "file_extension": ".py",
   "mimetype": "text/x-python",
   "name": "python",
   "nbconvert_exporter": "python",
   "pygments_lexer": "ipython3",
   "version": "3.10.2"
  },
  "orig_nbformat": 4
 },
 "nbformat": 4,
 "nbformat_minor": 2
}
