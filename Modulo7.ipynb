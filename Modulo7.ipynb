{
 "cells": [
  {
   "cell_type": "code",
   "execution_count": 19,
   "metadata": {},
   "outputs": [
    {
     "name": "stdout",
     "output_type": "stream",
     "text": [
      "ingrese un nuevo nombre de planeta o que escriba *done* si ha terminado de ingresar nombres de planeta\n",
      "\n",
      " planetas ingresados son:\n",
      "\n",
      "\n",
      "ingrese un nuevo nombre de planeta o que escriba *done* si ha terminado de ingresar nombres de planeta\n",
      "\n",
      " planetas ingresados son:\n",
      "\n",
      "\n",
      "hola\n",
      "ingrese un nuevo nombre de planeta o que escriba *done* si ha terminado de ingresar nombres de planeta\n",
      "\n",
      " planetas ingresados son:\n",
      "\n",
      "\n",
      "hola\n",
      "mi\n",
      "ingrese un nuevo nombre de planeta o que escriba *done* si ha terminado de ingresar nombres de planeta\n",
      "\n",
      " planetas ingresados son:\n",
      "\n",
      "\n",
      "hola\n",
      "mi\n",
      "nombre \n",
      "ingrese un nuevo nombre de planeta o que escriba *done* si ha terminado de ingresar nombres de planeta\n",
      "\n",
      " planetas ingresados son:\n",
      "\n",
      "\n",
      "hola\n",
      "mi\n",
      "nombre \n",
      "es\n",
      "ingrese un nuevo nombre de planeta o que escriba *done* si ha terminado de ingresar nombres de planeta\n",
      "\n",
      " planetas ingresados son:\n",
      "\n",
      "\n",
      "hola\n",
      "mi\n",
      "nombre \n",
      "es\n",
      "carlos\n"
     ]
    }
   ],
   "source": [
    "#planeta=input(print(\"ingrese un nuevo nombre de planeta o que escriba *done* si ha terminado de ingresar nombres de planeta\"))\n",
    "planeta=('')\n",
    "planetas=[]\n",
    "\n",
    "while planeta != 'done':\n",
    "    planetas.append(planeta)\n",
    "    planeta=input(print(\"ingrese un nuevo nombre de planeta o que escriba *done* si ha terminado de ingresar nombres de planeta\"))\n",
    "    ##print(planeta)\n",
    "\n",
    "    if planeta in planetas:\n",
    "        print(\"este planeta ya se encuentra en la lista\")\n",
    "\n",
    "    else:\n",
    "        print(\"\\n planetas ingresados son:\\n\")\n",
    "        for n in planetas:\n",
    "             print(n)\n",
    "             ##print(\"planetas guardados adios!\")\n",
    "\n",
    "\n",
    "\n",
    "    \n",
    "\n"
   ]
  }
 ],
 "metadata": {
  "interpreter": {
   "hash": "092e22918fe5a7649718a62db2c44cb39db37187747815879a09b1102b893454"
  },
  "kernelspec": {
   "display_name": "Python 3.9.7 64-bit",
   "language": "python",
   "name": "python3"
  },
  "language_info": {
   "codemirror_mode": {
    "name": "ipython",
    "version": 3
   },
   "file_extension": ".py",
   "mimetype": "text/x-python",
   "name": "python",
   "nbconvert_exporter": "python",
   "pygments_lexer": "ipython3",
   "version": "3.10.2"
  },
  "orig_nbformat": 4
 },
 "nbformat": 4,
 "nbformat_minor": 2
}
