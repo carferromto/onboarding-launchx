{
 "cells": [
  {
   "cell_type": "code",
   "execution_count": 1,
   "metadata": {},
   "outputs": [
    {
     "name": "stdout",
     "output_type": "stream",
     "text": [
      "Ingresa el nombre del planeta que se añadira:\n",
      "['Mercurio', 'Venus', 'Tierra', 'Marte', 'Jupiter', 'Saturno', 'Neptuno', 'pluton']\n"
     ]
    }
   ],
   "source": [
    "##agrega un planeta a la lista \n",
    "planetas=['Mercurio','Venus','Tierra','Marte','Jupiter','Saturno','Neptuno']\n",
    "planeta=input(print('Ingresa el nombre del planeta que se añadira:'))\n",
    "planetas.append(planeta)\n",
    "print(planetas)"
   ]
  },
  {
   "cell_type": "code",
   "execution_count": 13,
   "metadata": {},
   "outputs": [
    {
     "name": "stdout",
     "output_type": "stream",
     "text": [
      "Ingresa el nombre del planeta:\n",
      "el planeta  se encuentra en la lista\n",
      "el planeta se encuentra en el lugar: 2\n",
      "los planetas mas cercanos a  Tierra son  Marte y  Venus\n"
     ]
    }
   ],
   "source": [
    "##lista \n",
    "planetas=['Mercurio','Venus','Tierra','Marte','Jupiter','Saturno','Neptuno']\n",
    "planeta=input(print('Ingresa el nombre del planeta:'))\n",
    "indice_planeta=planetas.index(planeta)\n",
    "psig=planetas[indice_planeta+1]\n",
    "pant=planetas[indice_planeta-1]\n",
    "## funcion que encuentra el planeta de la lista  \n",
    "##for p in planetas:\n",
    "if planeta in planetas:\n",
    "     print('el planeta  se encuentra en la lista')\n",
    "     print('el planeta se encuentra en el lugar:', indice_planeta)\n",
    "     print('los planetas mas cercanos a ', planeta +' son ', psig +' y ', pant )\n",
    "\n",
    "else:\n",
    "        print('el planeta no se encuentra en la lista')     \n",
    "\n"
   ]
  },
  {
   "cell_type": "code",
   "execution_count": 15,
   "metadata": {},
   "outputs": [
    {
     "name": "stdout",
     "output_type": "stream",
     "text": [
      "Ingresa el nombre del planeta:\n",
      "el planeta  se encuentra en la lista\n",
      "el planeta se encuentra en el lugar: 2\n",
      "los planetas mas cercanos a  Tierra son  Marte y  Venus\n",
      "el planeta mas alejado de el sol es: Neptuno\n"
     ]
    }
   ],
   "source": [
    "##ejercicio3 tambien muestra los planetas mas alejados del sol\n",
    "planetas=['Mercurio','Venus','Tierra','Marte','Jupiter','Saturno','Neptuno']\n",
    "planeta=input(print('Ingresa el nombre del planeta:'))\n",
    "numplanetas=len(planetas)\n",
    "indice_planeta=planetas.index(planeta)\n",
    "psig=planetas[indice_planeta+1]\n",
    "pant=planetas[indice_planeta-1]\n",
    "## funcion que encuentra el planeta de la lista  \n",
    "##for p in planetas:\n",
    "if planeta in planetas:\n",
    "     print('El planeta  se encuentra en la lista')\n",
    "     print('El planeta se encuentra en el lugar:', indice_planeta)\n",
    "     print('Los planetas mas cercanos a ', planeta +' son ', psig +' y ', pant )\n",
    "     print('El planeta mas alejado de el sol es:',planetas[numplanetas-1] )\n",
    "\n",
    "else:\n",
    "        print('el planeta no se encuentra en la lista')     "
   ]
  }
 ],
 "metadata": {
  "interpreter": {
   "hash": "f168e56861e213205829b4a3ce4248afc7a2b084a2059bf08cd51cbccd2002ef"
  },
  "kernelspec": {
   "display_name": "Python 3.10.2 64-bit (windows store)",
   "language": "python",
   "name": "python3"
  },
  "language_info": {
   "codemirror_mode": {
    "name": "ipython",
    "version": 3
   },
   "file_extension": ".py",
   "mimetype": "text/x-python",
   "name": "python",
   "nbconvert_exporter": "python",
   "pygments_lexer": "ipython3",
   "version": "3.10.2"
  },
  "orig_nbformat": 4
 },
 "nbformat": 4,
 "nbformat_minor": 2
}
