{
 "cells": [
  {
   "cell_type": "code",
   "execution_count": 5,
   "metadata": {},
   "outputs": [
    {
     "name": "stdout",
     "output_type": "stream",
     "text": [
      "Distancias entre Tierra y Jupiter es :  628949.33\n",
      "Distancias entre Tierra y Jupiter en millas es :  390810.99503897235\n"
     ]
    }
   ],
   "source": [
    "#ejercicio1\n",
    "# Crear variables para almacenar las dos distancias\n",
    "# ¡Asegúrate de quitar las comas!\n",
    "\n",
    "Tierra=149597.870\n",
    "Jupiter=778547.200\n",
    "distancia=Jupiter-Tierra\n",
    "\n",
    "print('Distancias entre Tierra y Jupiter es : ',str(distancia))\n",
    "print('Distancias entre Tierra y Jupiter en millas es : ',(distancia/1.609344))"
   ]
  },
  {
   "cell_type": "code",
   "execution_count": 2,
   "metadata": {},
   "outputs": [
    {
     "name": "stdout",
     "output_type": "stream",
     "text": [
      "Ingresa la distancia del planeta1 \n",
      "Ingresa la distancia del planeta2\n",
      "planeta1 es: 227900000\n",
      "planeta2 es: 1433500000\n",
      "La distancia entre planetas es: 1205600000\n"
     ]
    }
   ],
   "source": [
    "#ejercicio2\n",
    "\n",
    "# Almacenar las entradas del usuario\n",
    "#Pista: variable = input(\"¿Cuál es tu nombre?\")\n",
    "\n",
    "Planeta1=int(input(print('Ingresa la distancia del planeta1 ')))\n",
    "Planeta2=int(input(print('Ingresa la distancia del planeta2')))\n",
    "\n",
    "print('planeta1 es:',int(Planeta1))\n",
    "print('planeta2 es:',int(Planeta2))\n",
    "\n",
    "if Planeta1>Planeta2:\n",
    "   Distancia=Planeta1-Planeta2\n",
    "   print('La distancia entre planetas es:',Distancia)\n",
    "elif Planeta2>Planeta1:\n",
    "      Distancia=Planeta2-Planeta1\n",
    "      print('La distancia entre planetas es:',Distancia)\n"
   ]
  }
 ],
 "metadata": {
  "interpreter": {
   "hash": "092e22918fe5a7649718a62db2c44cb39db37187747815879a09b1102b893454"
  },
  "kernelspec": {
   "display_name": "Python 3.9.7 64-bit",
   "language": "python",
   "name": "python3"
  },
  "language_info": {
   "codemirror_mode": {
    "name": "ipython",
    "version": 3
   },
   "file_extension": ".py",
   "mimetype": "text/x-python",
   "name": "python",
   "nbconvert_exporter": "python",
   "pygments_lexer": "ipython3",
   "version": "3.9.7"
  },
  "orig_nbformat": 4
 },
 "nbformat": 4,
 "nbformat_minor": 2
}
